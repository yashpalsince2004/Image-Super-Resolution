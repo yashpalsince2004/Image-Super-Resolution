{
 "cells": [
  {
   "cell_type": "markdown",
   "metadata": {},
   "source": [
    "# 🌟 Day 21: Image Super-Resolution using SRCNN (Hinglish)\n",
    "\n",
    "Aaj hum ek simple **Super-Resolution CNN (SRCNN)** implement karenge jo low-resolution image ko high-resolution banayega.\n",
    "\n",
    "---\n",
    "## 🔍 SRCNN kya hai?\n",
    "\n",
    "- Ek neural network jo ek low-res image ko high-res me convert karta hai.\n",
    "- 3 convolutional layers ka use hota hai.\n",
    "- Pehle ek low-res image ko upscale karke (e.g., bicubic interpolation) input dete hain aur CNN usko enhance karta hai.\n"
   ]
  },
  {
   "cell_type": "code",
   "execution_count": null,
   "metadata": {},
   "outputs": [],
   "source": [
    "import tensorflow as tf\n",
    "from keras import layers, models\n",
    "import numpy as np\n",
    "import cv2\n",
    "import matplotlib.pyplot as plt\n",
    "import os\n",
    "from skimage.metrics import peak_signal_noise_ratio as psnr\n",
    "print(\"✅ TensorFlow version:\", tf.__version__)"
   ]
  },
  {
   "cell_type": "code",
   "execution_count": null,
   "metadata": {},
   "outputs": [],
   "source": [
    "# 📄 Load a sample image\n",
    "img_path = \"lena.jpg\"\n",
    "\n",
    "# If lena.jpg is not present, download it\n",
    "if not os.path.exists(img_path):\n",
    "    import urllib.request\n",
    "    print(\"📥 Downloading lena.jpg …\")\n",
    "    urllib.request.urlretrieve(\n",
    "        \"https://raw.githubusercontent.com/opencv/opencv/master/samples/data/lena.jpg\",\n",
    "        img_path\n",
    "    )\n",
    "\n",
    "# ✅ Read image\n",
    "img = cv2.imread(img_path, cv2.IMREAD_COLOR)\n",
    "img = cv2.cvtColor(img, cv2.COLOR_BGR2YCrCb)[:, :, 0]  # Y channel\n",
    "img = cv2.resize(img, (128, 128))\n",
    "\n",
    "low_res = cv2.resize(img, (32, 32), interpolation=cv2.INTER_CUBIC)\n",
    "upscaled = cv2.resize(low_res, (128, 128), interpolation=cv2.INTER_CUBIC)\n",
    "\n",
    "# 🔷 Visualize\n",
    "plt.figure(figsize=(10, 4))\n",
    "plt.subplot(1, 3, 1)\n",
    "plt.imshow(img, cmap='gray')\n",
    "plt.title('Original')\n",
    "plt.axis('off')\n",
    "plt.subplot(1, 3, 2)\n",
    "plt.imshow(low_res, cmap='gray')\n",
    "plt.title('Low-Res')\n",
    "plt.axis('off')\n",
    "plt.subplot(1, 3, 3)\n",
    "plt.imshow(upscaled, cmap='gray')\n",
    "plt.title('Upscaled (Input)')\n",
    "plt.axis('off')\n",
    "plt.show()"
   ]
  },
  {
   "cell_type": "code",
   "execution_count": null,
   "metadata": {},
   "outputs": [],
   "source": [
    "# 🧠 Build SRCNN Model\n",
    "def build_srcnn():\n",
    "    model = models.Sequential()\n",
    "    model.add(layers.Conv2D(64, (9, 9), activation='relu', padding='same', input_shape=(128, 128, 1)))\n",
    "    model.add(layers.Conv2D(32, (1, 1), activation='relu', padding='same'))\n",
    "    model.add(layers.Conv2D(1, (5, 5), activation='linear', padding='same'))\n",
    "    model.compile(optimizer='adam', loss='mse')\n",
    "    return model\n",
    "\n",
    "srcnn = build_srcnn()\n",
    "srcnn.summary()\n"
   ]
  },
  {
   "cell_type": "code",
   "execution_count": null,
   "metadata": {},
   "outputs": [],
   "source": [
    "# 📊 Prepare Data\n",
    "x_train = upscaled / 255.0\n",
    "y_train = img / 255.0\n",
    "\n",
    "x_train = np.expand_dims(x_train, axis=(0, -1))\n",
    "y_train = np.expand_dims(y_train, axis=(0, -1))"
   ]
  },
  {
   "cell_type": "code",
   "execution_count": null,
   "metadata": {},
   "outputs": [],
   "source": [
    "# 🎯 Train SRCNN\n",
    "srcnn.fit(x_train, y_train, epochs=100, verbose=2)"
   ]
  },
  {
   "cell_type": "code",
   "execution_count": null,
   "metadata": {},
   "outputs": [],
   "source": [
    "# 🔮 Predict & Visualize\n",
    "pred = srcnn.predict(x_train)\n",
    "pred = np.clip(pred[0, :, :, 0] * 255.0, 0, 255).astype(np.uint8)\n",
    "\n",
    "plt.figure(figsize=(12, 4))\n",
    "plt.subplot(1, 3, 1)\n",
    "plt.imshow(img, cmap='gray')\n",
    "plt.title('Original')\n",
    "plt.axis('off')\n",
    "plt.subplot(1, 3, 2)\n",
    "plt.imshow(upscaled, cmap='gray')\n",
    "plt.title('Upscaled')\n",
    "plt.axis('off')\n",
    "plt.subplot(1, 3, 3)\n",
    "plt.imshow(pred, cmap='gray')\n",
    "plt.title('SRCNN Output')\n",
    "plt.axis('off')\n",
    "plt.show()"
   ]
  },
  {
   "cell_type": "code",
   "execution_count": null,
   "metadata": {},
   "outputs": [],
   "source": [
    "# PSNR Calculation\n",
    "print(f\"Upscaled PSNR: {psnr(img, upscaled):.2f} dB\")\n",
    "print(f\"SRCNN PSNR: {psnr(img, pred):.2f} dB\")"
   ]
  },
  {
   "cell_type": "markdown",
   "metadata": {},
   "source": [
    "---\n",
    "## ✅ Summary Table\n",
    "\n",
    "| Step | Description |\n",
    "|------|-------------|\n",
    "| 📄 Data | High-res + Low-res images |\n",
    "| 🔧 Model | SRCNN: 3 conv layers |\n",
    "| 🏋️ Training | MSE loss, Adam optimizer |\n",
    "| 🎨 Output | Enhanced high-res image |\n",
    "| 📊 PSNR | Quality improvement measure |\n",
    "\n",
    "---\n",
    "🎉 Aapne successfully ek SRCNN Super-Resolution model implement kar liya!"
   ]
  }
 ],
 "metadata": {
  "kernelspec": {
   "display_name": "venv",
   "language": "python",
   "name": "python3"
  },
  "language_info": {
   "name": "python",
   "version": "3.12.5"
  }
 },
 "nbformat": 4,
 "nbformat_minor": 5
}
